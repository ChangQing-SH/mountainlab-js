{
 "cells": [
  {
   "cell_type": "code",
   "execution_count": 19,
   "metadata": {},
   "outputs": [],
   "source": [
    "# First install mountainlab-js including the mltools python module\n",
    "# And install pyms processor package\n",
    "from mltools import mlproc as ml\n",
    "from mltools import mlstudy as mls\n",
    "from mltools import mdaio\n",
    "import json\n",
    "import numpy as np"
   ]
  },
  {
   "cell_type": "code",
   "execution_count": 16,
   "metadata": {},
   "outputs": [
    {
     "name": "stdout",
     "output_type": "stream",
     "text": [
      "RUNNING:::::: ml-run-process pyms.synthesize_random_waveforms --inputs --parameters --outputs waveforms_out:/tmp/mountainlab-tmp/mountainlab/tmp_short_term/output_waveforms_out_ce2e97caf508385e13ab4aa5f01c69535e716b4e\n",
      "[ Getting processor spec... ]\n",
      "[ Checking inputs and substituting prvs ... ]\n",
      "[ Computing process signature ... ]\n",
      "[ Checking outputs... ]\n",
      "[ Checking process cache ... ]\n",
      "[ Process already completed. ]\n",
      "[ Done. ]\n",
      "(5, 6500, 20)\n"
     ]
    }
   ],
   "source": [
    "# Run a process and load the output file\n",
    "output=ml.runProcess('pyms.synthesize_random_waveforms',{},{'waveforms_out':True},{},{})\n",
    "W=mls.loadMdaFile(output['waveforms_out'])\n",
    "print(W.shape)"
   ]
  },
  {
   "cell_type": "code",
   "execution_count": 23,
   "metadata": {},
   "outputs": [
    {
     "name": "stdout",
     "output_type": "stream",
     "text": [
      "Error: 1.1905463326300492e-07\n"
     ]
    }
   ],
   "source": [
    "# Write and read a .mda file\n",
    "X=np.random.normal(0,1,[100,100])\n",
    "mdaio.writemda32(X,'test.mda')\n",
    "Y=mdaio.readmda('test.mda')\n",
    "err=np.max(np.abs(X-Y))\n",
    "print('Error: {}'.format(err))"
   ]
  },
  {
   "cell_type": "code",
   "execution_count": 17,
   "metadata": {},
   "outputs": [
    {
     "name": "stdout",
     "output_type": "stream",
     "text": [
      "{\n",
      "    \"parameters\": [\n",
      "        {\n",
      "            \"name\": \"samplerate\",\n",
      "            \"datatype\": \"float\",\n",
      "            \"optional\": false,\n",
      "            \"description\": \"The sampling rate in Hz\"\n",
      "        },\n",
      "        {\n",
      "            \"name\": \"freq_min\",\n",
      "            \"datatype\": \"float\",\n",
      "            \"optional\": false,\n",
      "            \"description\": \"The lower endpoint of the frequency band (Hz)\"\n",
      "        },\n",
      "        {\n",
      "            \"name\": \"freq_max\",\n",
      "            \"datatype\": \"float\",\n",
      "            \"optional\": false,\n",
      "            \"description\": \"The upper endpoint of the frequency band (Hz)\"\n",
      "        },\n",
      "        {\n",
      "            \"name\": \"freq_wid\",\n",
      "            \"default_value\": 1000,\n",
      "            \"datatype\": \"float\",\n",
      "            \"optional\": true,\n",
      "            \"description\": \"The optional width of the roll-off (Hz)\"\n",
      "        }\n",
      "    ],\n",
      "    \"exe_command\": \"/home/magland/main-venv/bin/python3 /home/magland/.mountainlab/packages/mountainsort/packages/pyms/preprocessing/preprocessing.py pyms.bandpass_filter $(arguments)\",\n",
      "    \"name\": \"pyms.bandpass_filter\",\n",
      "    \"inputs\": [\n",
      "        {\n",
      "            \"name\": \"timeseries\",\n",
      "            \"optional\": false,\n",
      "            \"description\": \"MxN raw timeseries array (M = #channels, N = #timepoints)\"\n",
      "        }\n",
      "    ],\n",
      "    \"outputs\": [\n",
      "        {\n",
      "            \"name\": \"timeseries_out\",\n",
      "            \"optional\": false,\n",
      "            \"description\": \"Filtered output (MxN array)\"\n",
      "        }\n",
      "    ],\n",
      "    \"version\": \"0.1\",\n",
      "    \"description\": \"Apply a bandpass filter to a multi-channel timeseries\"\n",
      "}\n"
     ]
    }
   ],
   "source": [
    "# get the spec of a processor\n",
    "spec=ml.spec('pyms.bandpass_filter')\n",
    "print(json.dumps(spec,indent=4))"
   ]
  },
  {
   "cell_type": "code",
   "execution_count": null,
   "metadata": {},
   "outputs": [],
   "source": []
  }
 ],
 "metadata": {
  "kernelspec": {
   "display_name": "Python 3",
   "language": "python",
   "name": "python3"
  },
  "language_info": {
   "codemirror_mode": {
    "name": "ipython",
    "version": 3
   },
   "file_extension": ".py",
   "mimetype": "text/x-python",
   "name": "python",
   "nbconvert_exporter": "python",
   "pygments_lexer": "ipython3",
   "version": "3.5.2"
  }
 },
 "nbformat": 4,
 "nbformat_minor": 2
}
