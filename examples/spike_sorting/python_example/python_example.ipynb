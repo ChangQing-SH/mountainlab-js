{
 "cells": [
  {
   "cell_type": "code",
   "execution_count": null,
   "metadata": {},
   "outputs": [],
   "source": [
    "# Imports\n",
    "from mltools import mlproc as mlp\n",
    "from mltools import mlstudy as mls\n",
    "from mltools import mdaio\n",
    "import os"
   ]
  },
  {
   "cell_type": "code",
   "execution_count": null,
   "metadata": {},
   "outputs": [],
   "source": [
    "# Synthesize timeseries\n",
    "duration=600\n",
    "M=4\n",
    "samplerate=30000\n",
    "mlp.runProcess('ephys.synthesize_random_waveforms',{},{'geometry_out':'geom.csv','waveforms_out':'waveforms_true.mda'},{'upsamplefac':13,'M':M,'average_peak_amplitude':100})\n",
    "mlp.runProcess('ephys.synthesize_random_firings',{},{'firings_out':'firings_true.mda'},{'duration':duration})\n",
    "mlp.runProcess('ephys.synthesize_timeseries',{'firings':'firings_true.mda','waveforms':'waveforms_true.mda'},{'timeseries_out':'raw.mda.prv'},{'duration':duration,'waveform_upsamplefac':13,'noise_level':10})"
   ]
  },
  {
   "cell_type": "code",
   "execution_count": null,
   "metadata": {},
   "outputs": [],
   "source": [
    "# View the timeseries\n",
    "os.system('ev-view-timeseries raw.mda.prv --firings firings_true.mda')"
   ]
  },
  {
   "cell_type": "code",
   "execution_count": null,
   "metadata": {},
   "outputs": [],
   "source": [
    "# Preprocessing\n",
    "freq_min=300\n",
    "freq_max=6000\n",
    "mlp.runProcess('ephys.bandpass_filter',{'timeseries':'raw.mda.prv'},{'timeseries_out':'filt.mda.prv'},{'samplerate':samplerate,'freq_min':freq_min,'freq_max':freq_max})\n",
    "mlp.runProcess('ephys.whiten',{'timeseries':'filt.mda.prv'},{'timeseries_out':'pre.mda.prv'},{})"
   ]
  },
  {
   "cell_type": "code",
   "execution_count": null,
   "metadata": {},
   "outputs": [],
   "source": [
    "# Sorting\n",
    "pp={}\n",
    "pp['detect_sign']=1\n",
    "pp['adjacency_radius']=-1\n",
    "pp['detect_threshold']=3\n",
    "mlp.runProcess('ms4alg.sort',{'timeseries':'pre.mda.prv','geom':'geom.csv'},{'firings_out':'firings.mda'},pp)"
   ]
  },
  {
   "cell_type": "code",
   "execution_count": null,
   "metadata": {},
   "outputs": [],
   "source": [
    "# Compute templates\n",
    "templates=mlp.runProcess('ephys.compute_templates',{'timeseries':'filt.mda.prv','firings':'firings.mda'},{'templates_out':True},{'clip_size':150})['templates_out']\n",
    "os.system('ev-view-templates {}'.format(templates))"
   ]
  },
  {
   "cell_type": "code",
   "execution_count": null,
   "metadata": {},
   "outputs": [],
   "source": []
  }
 ],
 "metadata": {
  "kernelspec": {
   "display_name": "Python 3",
   "language": "python",
   "name": "python3"
  },
  "language_info": {
   "codemirror_mode": {
    "name": "ipython",
    "version": 3
   },
   "file_extension": ".py",
   "mimetype": "text/x-python",
   "name": "python",
   "nbconvert_exporter": "python",
   "pygments_lexer": "ipython3",
   "version": "3.5.2"
  }
 },
 "nbformat": 4,
 "nbformat_minor": 2
}
