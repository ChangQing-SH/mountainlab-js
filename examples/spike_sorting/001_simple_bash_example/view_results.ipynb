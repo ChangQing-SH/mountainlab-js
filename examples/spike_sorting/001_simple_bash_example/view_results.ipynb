{
 "cells": [
  {
   "cell_type": "code",
   "execution_count": 7,
   "metadata": {},
   "outputs": [],
   "source": [
    "import ephysviz as viz\n",
    "import numpy as np\n",
    "from mltools import mlstudy as mls\n",
    "from mltools import mlproc as mlp\n",
    "from mltools import mdaio\n",
    "import deepdish as dd\n",
    "import imp"
   ]
  },
  {
   "cell_type": "code",
   "execution_count": 8,
   "metadata": {},
   "outputs": [
    {
     "name": "stdout",
     "output_type": "stream",
     "text": [
      "RUNNING:::::: ml-run-process ephys.compute_templates --inputs firings:data/firings.npy.prv timeseries:data/pre.mda.prv --parameters clip_size:100 --outputs templates_out:data/templates.npy\n",
      "[ Getting processor spec... ]\n",
      "[ Checking inputs and substituting prvs ... ]\n",
      "[ Computing process signature ... ]\n",
      "[ Checking outputs... ]\n",
      "[ Checking process cache ... ]\n",
      "[ Process already completed. ]\n",
      "[ Done. ]\n"
     ]
    },
    {
     "data": {
      "text/plain": [
       "{'templates_out': 'data/templates.npy'}"
      ]
     },
     "execution_count": 8,
     "metadata": {},
     "output_type": "execute_result"
    }
   ],
   "source": [
    "mlp.runProcess('ephys.compute_templates',{\"timeseries\":'data/pre.mda.prv',\"firings\":'data/firings.npy.prv'},{\"templates_out\":'data/templates.npy'},{\"clip_size\":100})"
   ]
  },
  {
   "cell_type": "code",
   "execution_count": null,
   "metadata": {},
   "outputs": [],
   "source": [
    "templates=mls.loadMdaFile('data/templates.npy')\n",
    "viz.view_templates(templates)"
   ]
  },
  {
   "cell_type": "code",
   "execution_count": null,
   "metadata": {},
   "outputs": [
    {
     "name": "stdout",
     "output_type": "stream",
     "text": [
      "RUNNING:::::: ml-run-process ephys.compute_cross_correlograms --inputs firings:data/firings.npy.prv --parameters mode:autocorrelograms samplerate:30000 bin_size_msec:2 max_dt_msec:50 --outputs correlograms_out:data/autocorrelograms.hdf5\n"
     ]
    }
   ],
   "source": [
    "mlp.runProcess('ephys.compute_cross_correlograms',{\"firings\":'data/firings.npy.prv'},{\"correlograms_out\":'data/autocorrelograms.hdf5'},{\"samplerate\":30000,\"max_dt_msec\":50,\"bin_size_msec\":2,\"mode\":'autocorrelograms'})"
   ]
  },
  {
   "cell_type": "code",
   "execution_count": null,
   "metadata": {},
   "outputs": [],
   "source": [
    "X=dd.io.load('data/autocorrelograms.hdf5')\n",
    "viz.view_cross_correlograms(X['correlograms'])"
   ]
  },
  {
   "cell_type": "code",
   "execution_count": null,
   "metadata": {},
   "outputs": [],
   "source": []
  }
 ],
 "metadata": {
  "kernelspec": {
   "display_name": "Python 3",
   "language": "python",
   "name": "python3"
  },
  "language_info": {
   "codemirror_mode": {
    "name": "ipython",
    "version": 3
   },
   "file_extension": ".py",
   "mimetype": "text/x-python",
   "name": "python",
   "nbconvert_exporter": "python",
   "pygments_lexer": "ipython3",
   "version": "3.5.2"
  }
 },
 "nbformat": 4,
 "nbformat_minor": 2
}
